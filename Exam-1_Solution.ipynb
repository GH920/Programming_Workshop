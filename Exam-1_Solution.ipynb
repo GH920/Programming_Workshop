{
 "cells": [
  {
   "cell_type": "markdown",
   "metadata": {},
   "source": [
    "<h1 align=\"center\"> \n",
    "Programming Workshop 2018, Python Exam\n",
    "</h1>\n",
    "\n",
    "<h3 align=\"center\"> \n",
    "Data Science @ George Washington University\n",
    "</h3>"
   ]
  },
  {
   "cell_type": "markdown",
   "metadata": {},
   "source": [
    "## Note\n",
    "- Implement the parts denoted by # Implement me.\n",
    "- We expect you to follow a reasonable programming style. While we do not mandate a specific style, we require that your code to be neat, clear, **documented/commented** and above all consistent.\n",
    "- For in-class exam, **marks will be deducted if the above requirements are not followed.**"
   ]
  },
  {
   "cell_type": "markdown",
   "metadata": {},
   "source": [
    "## Part 1:List and Tuple\n",
    "- Numpy cannot be used for implementing the functions in this section"
   ]
  },
  {
   "cell_type": "markdown",
   "metadata": {},
   "source": [
    "Question 1: Write a function to find count of every word occuring in a list and print the unique words in ascending order of frequency.(If two words have same frequency then can be in any order)\n",
    "\n",
    "\n",
    "Example : \n",
    "          \n",
    "          Input list -> [\"Bob\",\"Jonny\",\"Bob\",\"Max\",\"Max\",\"Bob\"]\n",
    "          Output: Jonny,Max,Bob"
   ]
  },
  {
   "cell_type": "markdown",
   "metadata": {},
   "source": [
    "### 1.1 Implement the function"
   ]
  },
  {
   "cell_type": "code",
   "execution_count": 1,
   "metadata": {},
   "outputs": [],
   "source": [
    "def word_count(li):\n",
    "    \"\"\"\n",
    "    Print the count of every word in the list.\n",
    "    \n",
    "    Parameters\n",
    "    ----------\n",
    "    li : the input list\n",
    "    \n",
    "    Returns\n",
    "    ----------\n",
    "    Print the ouput in the format specified in the question\n",
    "\n",
    "    \"\"\"\n",
    "    ll=set(li)\n",
    "    l2=[]\n",
    "    for i in ll:\n",
    "        c=li.count(i)\n",
    "        l2.append((c,i))\n",
    "    l3=sorted(l2, key=lambda x: x[0])\n",
    "    print(\",\".join([i[1] for i in l3]))\n",
    "    \n",
    "    "
   ]
  },
  {
   "cell_type": "markdown",
   "metadata": {},
   "source": [
    "### 1.1 Test the function"
   ]
  },
  {
   "cell_type": "code",
   "execution_count": 2,
   "metadata": {},
   "outputs": [
    {
     "name": "stdout",
     "output_type": "stream",
     "text": [
      "Output of List1 \n",
      "\n",
      "Jonny,Max,Bob\n",
      "\n",
      "Output of List2 \n",
      "\n",
      "Max,George,Jimmy\n"
     ]
    }
   ],
   "source": [
    "list1 = [\"Bob\",\"Jonny\",\"Bob\",\"Max\",\"Max\",\"Bob\"]\n",
    "list2= [\"Jimmy\",\"George\",\"Max\",\"George\",\"Jimmy\"]\n",
    "print(\"Output of List1 \\n\")\n",
    "word_count(list1)\n",
    "print(\"\\nOutput of List2 \\n\")\n",
    "word_count(list2)"
   ]
  },
  {
   "cell_type": "markdown",
   "metadata": {},
   "source": [
    "## Part 2: Conditionals"
   ]
  },
  {
   "cell_type": "markdown",
   "metadata": {},
   "source": [
    "Question 2 :\n",
    "\n",
    "Write a python function to input electricity unit charges and calculate total electricity bill according to the given condition:\n",
    "\n",
    "For first 50 units Rs. 0.50/unit\n",
    "\n",
    "For next 100 units Rs. 0.75/unit\n",
    "\n",
    "For next 100 units Rs. 1.20/unit\n",
    "\n",
    "For unit above 250 Rs. 1.50/unit\n",
    "\n",
    "An additional surcharge of 20% is added to the bill"
   ]
  },
  {
   "cell_type": "markdown",
   "metadata": {},
   "source": [
    "### 2.1 Implement the function"
   ]
  },
  {
   "cell_type": "code",
   "execution_count": 3,
   "metadata": {},
   "outputs": [],
   "source": [
    "def total_bill(units):\n",
    "    \"\"\"\n",
    "    Calculate the total electricity bill.\n",
    "    \n",
    "    Parameters\n",
    "    ----------\n",
    "    units : unit charge\n",
    "    \n",
    "    Returns\n",
    "    ----------\n",
    "    Print the total electricity bill.\n",
    "    \n",
    "    \"\"\"\n",
    "    if(units<=50):\n",
    "        charges=0.50*units\n",
    "    elif(units>50 and units<=150):\n",
    "        charges=0.50*50+(units-50)*0.75\n",
    "    elif(units>150 and units<=250):\n",
    "        charges=0.50*50+100*0.75+(units-150)*1.2\n",
    "    else:\n",
    "        charges=0.50*50+100*0.75+100*1.2+(units-250)*1.5\n",
    "    \n",
    "    charges=charges*1.2\n",
    "    print(\"Total bill=\",charges)"
   ]
  },
  {
   "cell_type": "markdown",
   "metadata": {},
   "source": [
    "### 2.1 Test the function"
   ]
  },
  {
   "cell_type": "code",
   "execution_count": 4,
   "metadata": {},
   "outputs": [
    {
     "name": "stdout",
     "output_type": "stream",
     "text": [
      "Output of unit1\n",
      "\n",
      "Total bill= 120.0\n",
      "\n",
      "Output of unit2\n",
      "\n",
      "Total bill= 354.0\n"
     ]
    }
   ],
   "source": [
    "unit1=150\n",
    "unit2=300\n",
    "\n",
    "print(\"Output of unit1\\n\")\n",
    "total_bill(unit1)\n",
    "print(\"\\nOutput of unit2\\n\")\n",
    "total_bill(unit2)"
   ]
  },
  {
   "cell_type": "markdown",
   "metadata": {},
   "source": [
    "## Part 3: Loops"
   ]
  },
  {
   "cell_type": "markdown",
   "metadata": {},
   "source": [
    "Question 3: Write a program to find out whether a string is palindrome or not.\n",
    "Example: \n",
    "\n",
    "        Input String:- MADAM\n",
    "        Output : String is Palindrome(reverse of MADAM is same as Input)\n",
    "        \n",
    "        Input String:- TOM\n",
    "        Output : String is not Palindrome(reverse of TOM is MOT, which is not as same as TOM)\n",
    "        \n",
    "            \n",
    "            \n",
    "            "
   ]
  },
  {
   "cell_type": "markdown",
   "metadata": {},
   "source": [
    "### 3.1 Implement the function"
   ]
  },
  {
   "cell_type": "code",
   "execution_count": 5,
   "metadata": {},
   "outputs": [],
   "source": [
    "def palin(str1):\n",
    "    \"\"\"\n",
    "    Find whether string is palindrome or not.\n",
    "    \n",
    "    Parameters\n",
    "    ----------\n",
    "    str : String as Input\n",
    "    \n",
    "    Returns\n",
    "    ----------\n",
    "    Print whether the string is palindrome or not.\n",
    "    \"\"\"\n",
    "    str2=\"\"\n",
    "    str1=str1.lower()\n",
    "    for i in str1:\n",
    "        str2=i+str2\n",
    "    if(str1==str2):\n",
    "        print(\"String is Palindrome\")\n",
    "    else:\n",
    "        print(\"String is not Palindrome\")\n",
    "    "
   ]
  },
  {
   "cell_type": "markdown",
   "metadata": {},
   "source": [
    "### 3.1 Test the function"
   ]
  },
  {
   "cell_type": "code",
   "execution_count": 6,
   "metadata": {},
   "outputs": [
    {
     "name": "stdout",
     "output_type": "stream",
     "text": [
      "Output of str1\n",
      "\n",
      "String is Palindrome\n",
      "\n",
      "Output of str2\n",
      "\n",
      "String is not Palindrome\n"
     ]
    }
   ],
   "source": [
    "str1=\"Madam\"\n",
    "str2=\"TOM\"\n",
    "print(\"Output of str1\\n\")\n",
    "palin(str1)\n",
    "print(\"\\nOutput of str2\\n\")\n",
    "palin(str2)"
   ]
  },
  {
   "cell_type": "markdown",
   "metadata": {},
   "source": [
    "Question 4: Write a function to accept to numbers(x,y), calculate whether the numbers are twin prime or not. The function returns the result. (A twin prime is a prime number that is either 2 less or 2 more than another prime number)\n",
    "\n",
    "       Example \n",
    "            x=10, y=2\n",
    "            Function returns Not Twin Prime\n",
    "   \n",
    "        "
   ]
  },
  {
   "cell_type": "markdown",
   "metadata": {},
   "source": [
    "### 3.2 Implement the function"
   ]
  },
  {
   "cell_type": "code",
   "execution_count": 7,
   "metadata": {},
   "outputs": [],
   "source": [
    "def twin_prime(x,y):\n",
    "    \"\"\"\n",
    "    To find out whether x and y are twin prime or not.\n",
    "    \n",
    "    Parameters\n",
    "    ----------\n",
    "    x: integer \n",
    "    y: integer\n",
    "    \n",
    "    Returns\n",
    "    ----------\n",
    "    True if numbers are twin prime.\n",
    "    False if numbers are not twin prime.\n",
    "    Print the result from function call.\n",
    "    \n",
    "    \"\"\"\n",
    "    diff=abs(x-y)\n",
    "    def prime(x):\n",
    "        c=0\n",
    "        for i in range(1,x+1):\n",
    "            if(x%i==0):\n",
    "                c=c+1\n",
    "            if(c>2):\n",
    "                break\n",
    "        return c\n",
    "    \n",
    "    if(diff==2 and prime(x)==2 and prime(y)==2):\n",
    "        return(True)\n",
    "    else:\n",
    "        return(False)\n",
    "    \n",
    "    "
   ]
  },
  {
   "cell_type": "markdown",
   "metadata": {},
   "source": [
    "### 3.2 Test the function"
   ]
  },
  {
   "cell_type": "code",
   "execution_count": 8,
   "metadata": {},
   "outputs": [
    {
     "name": "stdout",
     "output_type": "stream",
     "text": [
      "Output of x1,y1\n",
      "\n",
      "False\n",
      "\n",
      "Output of x2,y2\n",
      "\n",
      "True\n"
     ]
    }
   ],
   "source": [
    "x1,y1=10,2\n",
    "x2,y2=11,13\n",
    "\n",
    "print(\"Output of x1,y1\\n\")\n",
    "print(twin_prime(x1,y1))\n",
    "print(\"\\nOutput of x2,y2\\n\")\n",
    "print(twin_prime(x2,y2))"
   ]
  },
  {
   "cell_type": "markdown",
   "metadata": {},
   "source": [
    "## Part 4: Class"
   ]
  },
  {
   "cell_type": "markdown",
   "metadata": {},
   "source": [
    "Question 5: Create a class Student, which takes marks of three subjects(Physics, Chemistry and Mathematics).\n",
    "\n",
    "        Functions in Class: 1) Function show() to show marks of the Student for different subjects.\n",
    "                            2) Function percentage() to calculate percentage marks obtained over three subjects.\n",
    "                            3) Function Grade() to show grade of the student.\n",
    "                                    Percentage >= 90% : Grade\n",
    "                                    Percentage >= 80% : Grade B\n",
    "                                    Percentage >= 70% : Grade C\n",
    "                                    Percentage >= 60% : Grade D\n",
    "                                    Percentage >= 40% : Grade E\n",
    "                                    Percentage < 40% : Grade F\n",
    "                                    \n",
    "        Create object of the class and call the functions of the class.\n",
    "                                "
   ]
  },
  {
   "cell_type": "markdown",
   "metadata": {},
   "source": [
    "### 4.1 Implement the class Student"
   ]
  },
  {
   "cell_type": "code",
   "execution_count": 9,
   "metadata": {},
   "outputs": [],
   "source": [
    "\"\"\"\n",
    "Implement the class and it functions\n",
    "\n",
    "\"\"\"\n",
    "class Student:\n",
    "    def __init__(self,p,c,m):\n",
    "            self.p=p\n",
    "            self.c=c\n",
    "            self.m=m\n",
    "            \n",
    "    def show(self):\n",
    "        print(\"Physics marks is {}, Mathematics marks is {}, Chemistry marks is{}\".format(self.p,self.m,self.c))\n",
    "        \n",
    "    def percentage(self):\n",
    "        return((self.p+self.c+self.m)/3)\n",
    "    \n",
    "    def grades(self):\n",
    "        percent=self.percentage()\n",
    "        if(percent>=90):\n",
    "            print(\"Grade A\")\n",
    "        elif(percent>=80):\n",
    "            print(\"Grade B\")\n",
    "        elif(percent>=70):\n",
    "            print(\"Grade C\")\n",
    "        elif(percent>=60):\n",
    "            print(\"Grade D\")\n",
    "        elif(percent>=40):\n",
    "            print(\"Grade E\")\n",
    "        else:\n",
    "            print(\"Grade F\")"
   ]
  },
  {
   "cell_type": "markdown",
   "metadata": {},
   "source": [
    "### 4.2 Test it"
   ]
  },
  {
   "cell_type": "code",
   "execution_count": 10,
   "metadata": {},
   "outputs": [
    {
     "name": "stdout",
     "output_type": "stream",
     "text": [
      "Physics marks is 60, Mathematics marks is 80, Chemistry marks is70\n",
      "70.0\n",
      "Grade C\n"
     ]
    }
   ],
   "source": [
    "obj_a=Student(60,70,80)\n",
    "obj_a.show()\n",
    "print(obj_a.percentage())\n",
    "obj_a.grades()"
   ]
  },
  {
   "cell_type": "markdown",
   "metadata": {},
   "source": [
    "## "
   ]
  }
 ],
 "metadata": {
  "kernelspec": {
   "display_name": "Python 3",
   "language": "python",
   "name": "python3"
  },
  "language_info": {
   "codemirror_mode": {
    "name": "ipython",
    "version": 3
   },
   "file_extension": ".py",
   "mimetype": "text/x-python",
   "name": "python",
   "nbconvert_exporter": "python",
   "pygments_lexer": "ipython3",
   "version": "3.5.2"
  }
 },
 "nbformat": 4,
 "nbformat_minor": 2
}
